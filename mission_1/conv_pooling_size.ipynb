{
 "cells": [
  {
   "cell_type": "code",
   "execution_count": 1,
   "metadata": {},
   "outputs": [],
   "source": [
    "import torch.nn as nn\n",
    "import torch\n",
    "\n",
    "# torch.nn.Conv2d(in_channels, \n",
    "#                 out_channels, \n",
    "#                 kernel_size, \n",
    "#                 stride=1, \n",
    "#                 padding=0, \n",
    "#                 dilation=1, \n",
    "#                 groups=1, \n",
    "#                 bias=True, \n",
    "#                 padding_mode='zeros', \n",
    "#                 device=None, \n",
    "#                 dtype=None)"
   ]
  },
  {
   "cell_type": "code",
   "execution_count": 3,
   "metadata": {},
   "outputs": [
    {
     "name": "stdout",
     "output_type": "stream",
     "text": [
      "tensor([[[-2.,  1.,  2.,  6.,  4.],\n",
      "         [-3.,  1.,  7.,  2., -2.],\n",
      "         [-4.,  2.,  3., -1., -3.],\n",
      "         [-7.,  1.,  2.,  3., 11.],\n",
      "         [ 5., -7.,  8., 12., -9.]]])\n",
      "tensor([[[1., 7.],\n",
      "         [2., 3.]]])\n",
      "tensor([[[ 1.,  7.,  4.],\n",
      "         [ 2.,  3., 11.],\n",
      "         [ 5., 12., -9.]]])\n"
     ]
    }
   ],
   "source": [
    "test = torch.randn(2,3,32,32)\n",
    "x = torch.tensor([[-2, 1, 2, 6, 4], [-3, 1, 7, 2, -2], [-4, 2, 3, -1 , -3], [-7, 1, 2, 3, 11], [5, -7, 8, 12, -9]]).float()\n",
    "x = x.unsqueeze(0)\n",
    "\n",
    "y_1 = nn.MaxPool2d(kernel_size=2,stride=2, padding=0)\n",
    "y_2 = nn.MaxPool2d(kernel_size=2,stride=2, padding=0, ceil_mode=True)\n",
    "print(x)\n",
    "print(y_1(x))\n",
    "print(y_2(x))"
   ]
  },
  {
   "cell_type": "code",
   "execution_count": 24,
   "metadata": {},
   "outputs": [
    {
     "name": "stdout",
     "output_type": "stream",
     "text": [
      "input torch.Size([10, 3, 224, 224])\n",
      "a1 torch.Size([10, 64, 224, 224])\n",
      "a2 torch.Size([10, 64, 224, 224])\n",
      "a3 torch.Size([10, 64, 112, 112])\n"
     ]
    }
   ],
   "source": [
    "# With square kernels and equal stride\n",
    "\n",
    "# non-square kernels and unequal stride and with padding\n",
    "conv1_1 = nn.Conv2d(3, 64, 3, 1, 1)\n",
    "conv1_2 = nn.Conv2d(64, 64, 3, 1, 1)\n",
    "pool1 = nn.MaxPool2d(2, stride=2, ceil_mode=True) #1/2\n",
    "input = torch.randn(10 ,3, 224, 224)\n",
    "print('input',input.size())\n",
    "a1=conv1_1(input)\n",
    "print('a1',a1.size())\n",
    "a2=conv1_2(a1)\n",
    "print('a2',a2.size())\n",
    "a3 = pool1(a2)\n",
    "print('a3',a3.size())"
   ]
  },
  {
   "cell_type": "code",
   "execution_count": null,
   "metadata": {},
   "outputs": [],
   "source": []
  }
 ],
 "metadata": {
  "kernelspec": {
   "display_name": "base",
   "language": "python",
   "name": "python3"
  },
  "language_info": {
   "codemirror_mode": {
    "name": "ipython",
    "version": 3
   },
   "file_extension": ".py",
   "mimetype": "text/x-python",
   "name": "python",
   "nbconvert_exporter": "python",
   "pygments_lexer": "ipython3",
   "version": "3.8.5"
  },
  "orig_nbformat": 4,
  "vscode": {
   "interpreter": {
    "hash": "d4d1e4263499bec80672ea0156c357c1ee493ec2b1c70f0acce89fc37c4a6abe"
   }
  }
 },
 "nbformat": 4,
 "nbformat_minor": 2
}
